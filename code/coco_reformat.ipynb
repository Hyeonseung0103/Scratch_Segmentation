{
 "cells": [
  {
   "cell_type": "markdown",
   "metadata": {},
   "source": [
    "#### json 형태의 데이터를 coco format json 형태로 변환"
   ]
  },
  {
   "cell_type": "code",
   "execution_count": 1,
   "metadata": {},
   "outputs": [],
   "source": [
    "import os\n",
    "import json\n",
    "import glob\n",
    "import json\n",
    "import cv2\n",
    "import numpy as np\n",
    "import pandas as pd\n",
    "\n",
    "from tqdm import tqdm"
   ]
  },
  {
   "cell_type": "code",
   "execution_count": 4,
   "metadata": {},
   "outputs": [],
   "source": [
    "# data_dir 받아서 coco format 수정\n",
    "class RemakeCOCOformat():\n",
    "    def __init__(self, img_dir, ann_dir, data_lst=None, n_sample=None, alis=None, ratio=0.05, labeling_schme=None, task=None):\n",
    "        self.base_img_path = img_dir\n",
    "        self.base_label_path = ann_dir\n",
    "        self.images = glob.glob(os.path.join(self.base_img_path, r\"*.jpg\"))\n",
    "        self.annotations = glob.glob(os.path.join(self.base_label_path ,r\"*.json\"))\n",
    "        \n",
    "        self.labeling_schme = labeling_schme\n",
    "        self.task = task\n",
    "        \n",
    "        self.img_id = 0\n",
    "        self.ann_id = 0\n",
    "\n",
    "        self.ratio = ratio\n",
    "        \n",
    "        if data_lst:\n",
    "            self.images = [ os.path.join(self.base_img_path,f.replace('.json', '.jpg')) for f in data_lst ]\n",
    "            self.annotations = [ os.path.join(self.base_label_path,f.replace('.jpg', '.json')) for f in data_lst ]\n",
    "            self.train_fn = alis\n",
    "            \n",
    "        if n_sample:\n",
    "            self.n_sample = n_sample\n",
    "\n",
    "    def load_json(self, file_name):\n",
    "        with open(file_name, \"r\") as f:\n",
    "            ann = json.load(f)\n",
    "        return ann\n",
    "\n",
    "    def save_json(self, file, file_name):\n",
    "        with open(file_name, \"w\") as f:\n",
    "            json.dump(file, f)\n",
    "          \n",
    "    def rebuilding(self, d, img_lst):\n",
    "        for i in img_lst:\n",
    "            self.img_id += 1\n",
    "            ann = self.load_json(i)\n",
    "\n",
    "            ann['images']['id'] = self.img_id\n",
    "            img_info = ann['images']\n",
    "            ann_info = ann['annotations']\n",
    "\n",
    "            d['images'].append(img_info)\n",
    "\n",
    "            for a in ann_info:\n",
    "                if a[self.task] != '':\n",
    "                    self.ann_id += 1\n",
    "                    a['id'] = self.ann_id\n",
    "                    a['image_id'] = self.img_id\n",
    "                    if self.labeling_schme:\n",
    "                        if a[self.task] in self.labeling_schme:\n",
    "                            a['category_id'] = self.labeling_schme.index(a[self.task])\n",
    "                        else:\n",
    "                            a['category_id'] = len(self.labeling_schme)\n",
    "                    a['segmentation'] = [a['segmentation']]\n",
    "\n",
    "                    d['annotations'].append(a)\n",
    "\n",
    "        return d\n",
    "            \n",
    "    \n",
    "    def coco_json(self):\n",
    "        train = self.load_json(self.annotations[0])\n",
    "        train['images'] = []\n",
    "        train['annotations'] = []\n",
    "                \n",
    "\n",
    "        if self.labeling_schme:\n",
    "            cates = [{\"id\":i+1, \"name\":v}for i,v in enumerate(self.labeling_schme)]\n",
    "            if self.task == 'part':\n",
    "                cates.append({\"id\":len(self.labeling_schme)+1, \"name\":'etc'})\n",
    "            train['categories']= cates\n",
    "                \n",
    "\n",
    "        \n",
    "        train_imgs = [] \n",
    "\n",
    "        for i in self.annotations:\n",
    "            ann = self.load_json(i)\n",
    "            ann_info = ann['annotations']\n",
    "\n",
    "            if len(ann_info) != 0:\n",
    "                train_imgs.append(i)\n",
    "        \n",
    "\n",
    "      \n",
    "        train = self.rebuilding(train, train_imgs)\n",
    "        print(len(train['images'])) \n",
    "        \n",
    "        if not os.path.exists(\"datainfo\"):\n",
    "            os.makedirs(\"datainfo\")\n",
    "            \n",
    "        if not os.path.exists(\"train_coco\"):\n",
    "            os.makedirs(\"train_coco\")\n",
    "                \n",
    "        if not os.path.exists(\"label_coco\"):\n",
    "            os.makedirs(\"label_coco\")\n",
    "        \n",
    "        self.save_json(train, os.path.join(\"datainfo\" ,self.train_fn + \".json\"))\n",
    "        \n",
    "\n",
    "\n",
    "def label_split(data_dir):\n",
    "    annotations = glob.glob(os.path.join(data_dir, r\"*.json\"))\n",
    "\n",
    "    def load_json(file_name):\n",
    "        with open(file_name, \"r\") as f:\n",
    "            ann = json.load(f)\n",
    "        return ann\n",
    "    \n",
    "    label_schme = {\n",
    "    1:{\"files\":[],\"label_info\":'스크래치'},\n",
    "    2:{\"files\":[],\"label_info\":'파손'},\n",
    "    3:{\"files\":[],\"label_info\":'찌그러짐'},\n",
    "    4:{\"files\":[],\"label_info\":'이격'},    \n",
    "    }\n",
    "\n",
    "    for ann in annotations:\n",
    "        parse = load_json(ann)\n",
    "        for a in parse['annotations']:\n",
    "            label_schme[a['category_id']]['files'].append(ann)\n",
    "    \n",
    "    for i in label_schme:\n",
    "        label_schme[i]['files'] = np.random.choice(list(set(label_schme[i]['files'])), 10, replace = False)\n",
    "    \n",
    "    for i in label_schme:\n",
    "        coco = RemakeCOCOformat('rst', data_lst=label_schme[i]['files'], alis = f\"_label{i}\")\n",
    "        coco.coco_json()\n",
    "\n",
    "    return label_schme"
   ]
  },
  {
   "cell_type": "code",
   "execution_count": 5,
   "metadata": {},
   "outputs": [
    {
     "data": {
      "text/plain": [
       "(50445, '0506233_sc-202337.jpg')"
      ]
     },
     "execution_count": 5,
     "metadata": {},
     "output_type": "execute_result"
    }
   ],
   "source": [
    "train_name = os.listdir(os.getcwd() + '/train')\n",
    "len(train_name), train_name[0]"
   ]
  },
  {
   "cell_type": "code",
   "execution_count": 7,
   "metadata": {},
   "outputs": [
    {
     "name": "stdout",
     "output_type": "stream",
     "text": [
      "50445\n",
      "50445\n"
     ]
    }
   ],
   "source": [
    "# 기존의 json이 COCO format의 json으로 변환되어 저장된다.\n",
    "if __name__ == \"__main__\":\n",
    "    label_df = pd.read_csv('label_instance.csv')\n",
    "    label_df = label_df.loc[label_df.total_anns > 0 & label_df.index.isin(train_name)]\n",
    "    print(len(label_df))\n",
    "\n",
    "    idx = 0\n",
    "\n",
    "\n",
    "    dir_name_img = 'train'\n",
    "    dir_name_label = 'label'\n",
    "    l_sch = [\"Scratched\",\"Separated\",\"Crushed\",\"Breakage\"]\n",
    "\n",
    "    # test, val\n",
    "    tmp = list(label_df.loc[label_df['dataset']=='val']['index'].values)\n",
    "    test = RemakeCOCOformat(img_dir = dir_name_img, ann_dir = dir_name_label, data_lst = tmp, alis=f'damage_val', ratio=0, labeling_schme=l_sch, task='damage')\n",
    "    test.coco_json()\n",
    "\n"
   ]
  }
 ],
 "metadata": {
  "kernelspec": {
   "display_name": "Python 3.8.5 32-bit",
   "language": "python",
   "name": "python3"
  },
  "language_info": {
   "codemirror_mode": {
    "name": "ipython",
    "version": 3
   },
   "file_extension": ".py",
   "mimetype": "text/x-python",
   "name": "python",
   "nbconvert_exporter": "python",
   "pygments_lexer": "ipython3",
   "version": "3.8.5"
  },
  "orig_nbformat": 4,
  "vscode": {
   "interpreter": {
    "hash": "8c9a6d0b832d4cfad6488ccdb1205552965f621d05815b5a62faeee9a758575a"
   }
  }
 },
 "nbformat": 4,
 "nbformat_minor": 2
}
